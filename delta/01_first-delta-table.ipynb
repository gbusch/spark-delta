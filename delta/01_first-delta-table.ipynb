{
 "cells": [
  {
   "cell_type": "markdown",
   "id": "195f8c6e-9920-4f2a-8054-470e75779f65",
   "metadata": {},
   "source": [
    "# First Delta Tables"
   ]
  },
  {
   "cell_type": "code",
   "execution_count": null,
   "id": "c1eeb962-7695-4f7e-9e40-0af86048bf83",
   "metadata": {},
   "outputs": [],
   "source": [
    "from utils.spark import get_spark\n",
    "\n",
    "spark = get_spark()"
   ]
  },
  {
   "cell_type": "code",
   "execution_count": null,
   "id": "571ba3cc-cfc5-4242-9079-c6d46e251af0",
   "metadata": {},
   "outputs": [],
   "source": [
    "!rm -rf /data/delta-table"
   ]
  },
  {
   "cell_type": "markdown",
   "id": "c22de62b-2e7d-4818-9238-5a553d60c40f",
   "metadata": {},
   "source": [
    "## First Delta Table\n",
    "\n",
    "Create a simple dataframe and save it as usual, but instead of \"parquet\" in \"delta\" format."
   ]
  },
  {
   "cell_type": "code",
   "execution_count": null,
   "id": "61603a14-626d-4270-b73e-7de55f03aa86",
   "metadata": {},
   "outputs": [],
   "source": [
    "data = spark.range(0, 5)\n",
    "data.write.format(\"delta\").save(\"/data/delta-table\")"
   ]
  },
  {
   "cell_type": "markdown",
   "id": "b1eba96a-fe40-44bc-92b3-0b2bd06e3081",
   "metadata": {},
   "source": [
    "The folder contains some parquet files plus a delta-log:"
   ]
  },
  {
   "cell_type": "code",
   "execution_count": null,
   "id": "7b994fed-7591-4a75-b2dd-42af855dc7a9",
   "metadata": {},
   "outputs": [],
   "source": [
    "!ls /data/delta-table"
   ]
  },
  {
   "cell_type": "code",
   "execution_count": null,
   "id": "6d56c824-fe12-4d69-b919-7ca10eafeec7",
   "metadata": {},
   "outputs": [],
   "source": [
    "!ls /data/delta-table/_delta_log"
   ]
  },
  {
   "cell_type": "code",
   "execution_count": null,
   "id": "737c8260-1cd8-4214-8eee-88a9a258d006",
   "metadata": {},
   "outputs": [],
   "source": [
    "!cat /data/delta-table/_delta_log/00000000000000000000.json"
   ]
  },
  {
   "cell_type": "markdown",
   "id": "929c0eb7-d245-482b-aae1-e2bfef158551",
   "metadata": {},
   "source": [
    "The table can now be loaded to a Spark dataframe as usual, just choose \"delta\" instead of \"parquet\"."
   ]
  },
  {
   "cell_type": "code",
   "execution_count": null,
   "id": "62064439-03a8-49a4-988c-568914a68461",
   "metadata": {},
   "outputs": [],
   "source": [
    "df = spark.read.format(\"delta\").load(\"/data/delta-table\")\n",
    "df.show()"
   ]
  },
  {
   "cell_type": "markdown",
   "id": "33f907b4-68fd-48bd-b7e6-866d9b6e14d1",
   "metadata": {},
   "source": [
    "New lines can be appended, this is also not new but the same as in parquet files:"
   ]
  },
  {
   "cell_type": "code",
   "execution_count": null,
   "id": "5f18e461-a22a-4c10-9b17-e9542e452858",
   "metadata": {},
   "outputs": [],
   "source": [
    "new_data = spark.range(5,10)\n",
    "new_data.write.format(\"delta\").mode(\"append\").save(\"/data/delta-table\")"
   ]
  },
  {
   "cell_type": "code",
   "execution_count": null,
   "id": "4a1faef8-f924-4f6e-93cc-d34d762e5a20",
   "metadata": {},
   "outputs": [],
   "source": [
    "df = spark.read.format(\"delta\").load(\"/data/delta-table\")\n",
    "df.show()"
   ]
  },
  {
   "cell_type": "markdown",
   "id": "5c3bd3b0-3b38-4526-8b66-04365e3c1a9e",
   "metadata": {},
   "source": [
    "We get a new entry in the delta-log for this modification:"
   ]
  },
  {
   "cell_type": "code",
   "execution_count": null,
   "id": "4a31a01b-7774-47fe-a713-5f2656119266",
   "metadata": {},
   "outputs": [],
   "source": [
    "!ls /data/delta-table/_delta_log"
   ]
  },
  {
   "cell_type": "code",
   "execution_count": null,
   "id": "dc2c03ec-c58f-4ece-baf5-bcd49debf460",
   "metadata": {},
   "outputs": [],
   "source": [
    "!cat /data/delta-table/_delta_log/00000000000000000001.json"
   ]
  },
  {
   "cell_type": "markdown",
   "id": "6aee75ca-4581-432d-9628-9a8dbbad6c33",
   "metadata": {},
   "source": [
    "## Using the Delta API\n",
    "\n",
    "To do delta-specific things, let's use the delta-API.\n",
    "Be aware that the resulting object is not a dataframe, but a DeltaTable object. \n",
    "If you want to do anything with the data, you can still convert it to a dataframe easily."
   ]
  },
  {
   "cell_type": "code",
   "execution_count": null,
   "id": "09b34940-b1d8-44fd-8a3b-0852dc45522a",
   "metadata": {},
   "outputs": [],
   "source": [
    "from delta.tables import DeltaTable\n",
    "\n",
    "delta_df = DeltaTable.forPath(spark, \"/data/delta-table\")"
   ]
  },
  {
   "cell_type": "code",
   "execution_count": null,
   "id": "26cf288a-ae89-45ef-a139-9327865ff4d7",
   "metadata": {},
   "outputs": [],
   "source": [
    "delta_df.toDF().show()"
   ]
  },
  {
   "cell_type": "markdown",
   "id": "00417432-9039-41a8-808d-36f07bcf7d8d",
   "metadata": {},
   "source": [
    "We can now delete rows from the delta table using the Delta API.\n",
    "This is different to the workflow that we had in Spark with parquet tables.\n",
    "There we would modify the dataframe and then overwrite the parquet file.\n",
    "This implies that the old data is gone!\n",
    "Here, the delta log notes which parts of the delta-table were deleted. \n",
    "The data is still available but delta will not show them any more (except you time travel, but more about this later)."
   ]
  },
  {
   "cell_type": "code",
   "execution_count": null,
   "id": "f35ea743-6d32-4db8-8236-1a5ac2a9faa5",
   "metadata": {},
   "outputs": [],
   "source": [
    "delta_df.delete(\"id<=5\")"
   ]
  },
  {
   "cell_type": "code",
   "execution_count": null,
   "id": "2f680b99-452c-4e39-bffb-0d740ccfa674",
   "metadata": {},
   "outputs": [],
   "source": [
    "delta_df.toDF().show()"
   ]
  },
  {
   "cell_type": "code",
   "execution_count": null,
   "id": "231cabe1-7263-42fd-a1b5-b9edb8264df1",
   "metadata": {},
   "outputs": [],
   "source": [
    "!cat /data/delta-table/_delta_log/00000000000000000002.json"
   ]
  },
  {
   "cell_type": "code",
   "execution_count": null,
   "id": "efc4a7c3-4cc7-49e7-8a92-83ddb91fb959",
   "metadata": {},
   "outputs": [],
   "source": [
    "spark.read.parquet(\"/data/delta-table/part-00002-e20c4fdb-197e-4296-9c83-9b8aa05459e4-c000.snappy.parquet\").show()"
   ]
  },
  {
   "cell_type": "markdown",
   "id": "4ac7c62c-5133-4dc4-9d7a-d6315f62f1a9",
   "metadata": {},
   "source": [
    "We can also update rows according to conditions:"
   ]
  },
  {
   "cell_type": "code",
   "execution_count": null,
   "id": "eda24471-3df4-4bbf-89eb-eee438faee6c",
   "metadata": {},
   "outputs": [],
   "source": [
    "delta_df.update(condition = \"id = 8\", set = { \"id\": \"888\" })"
   ]
  },
  {
   "cell_type": "code",
   "execution_count": null,
   "id": "a9e5ad79-6950-49f8-9888-c751b7b0a35a",
   "metadata": {},
   "outputs": [],
   "source": [
    "delta_df.toDF().show()"
   ]
  },
  {
   "cell_type": "code",
   "execution_count": null,
   "id": "a5155e8c-88ce-467a-b269-8fbcf7d217e5",
   "metadata": {},
   "outputs": [],
   "source": [
    "!cat /data/delta-table/_delta_log/00000000000000000003.json"
   ]
  },
  {
   "cell_type": "code",
   "execution_count": null,
   "id": "ef8e5a0d-b063-45c1-9334-a820d74d1aff",
   "metadata": {},
   "outputs": [],
   "source": [
    "spark.read.parquet(\"/data/delta-table/part-00004-e42f66d2-9083-46b0-be7a-17066de0443d-c000.snappy.parquet\").show()"
   ]
  },
  {
   "cell_type": "code",
   "execution_count": null,
   "id": "16d4332f-b413-4596-915b-103618c2c3dd",
   "metadata": {},
   "outputs": [],
   "source": [
    "spark.read.parquet(\"/data/delta-table/part-00000-a697701f-b8f9-4f76-a8b6-d4f8b8b240c3-c000.snappy.parquet\").show()"
   ]
  },
  {
   "cell_type": "code",
   "execution_count": null,
   "id": "6791039c-f91c-4b39-b5f7-0392d8b80e3f",
   "metadata": {},
   "outputs": [],
   "source": []
  }
 ],
 "metadata": {
  "kernelspec": {
   "display_name": "Python 3 (ipykernel)",
   "language": "python",
   "name": "python3"
  },
  "language_info": {
   "codemirror_mode": {
    "name": "ipython",
    "version": 3
   },
   "file_extension": ".py",
   "mimetype": "text/x-python",
   "name": "python",
   "nbconvert_exporter": "python",
   "pygments_lexer": "ipython3",
   "version": "3.9.7"
  }
 },
 "nbformat": 4,
 "nbformat_minor": 5
}
