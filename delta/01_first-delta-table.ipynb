{
 "cells": [
  {
   "cell_type": "code",
   "execution_count": null,
   "id": "c1eeb962-7695-4f7e-9e40-0af86048bf83",
   "metadata": {},
   "outputs": [],
   "source": [
    "from pyspark.sql import SparkSession\n",
    "\n",
    "from delta import configure_spark_with_delta_pip\n",
    "\n",
    "builder = SparkSession.builder.appName(\"MyApp\") \\\n",
    "    .config(\"spark.sql.extensions\", \"io.delta.sql.DeltaSparkSessionExtension\") \\\n",
    "    .config(\"spark.sql.catalog.spark_catalog\", \"org.apache.spark.sql.delta.catalog.DeltaCatalog\")\n",
    "\n",
    "spark = configure_spark_with_delta_pip(builder).getOrCreate()"
   ]
  },
  {
   "cell_type": "code",
   "execution_count": null,
   "id": "61603a14-626d-4270-b73e-7de55f03aa86",
   "metadata": {},
   "outputs": [],
   "source": [
    "data = spark.range(0, 5)\n",
    "data.write.format(\"delta\").save(\"/data/delta-table\")"
   ]
  },
  {
   "cell_type": "code",
   "execution_count": null,
   "id": "7b994fed-7591-4a75-b2dd-42af855dc7a9",
   "metadata": {},
   "outputs": [],
   "source": [
    "!ls /data/delta-table"
   ]
  },
  {
   "cell_type": "code",
   "execution_count": null,
   "id": "6d56c824-fe12-4d69-b919-7ca10eafeec7",
   "metadata": {},
   "outputs": [],
   "source": [
    "!ls /data/delta-table/_delta_log"
   ]
  },
  {
   "cell_type": "code",
   "execution_count": null,
   "id": "737c8260-1cd8-4214-8eee-88a9a258d006",
   "metadata": {},
   "outputs": [],
   "source": [
    "!cat /data/delta-table/_delta_log/00000000000000000000.json"
   ]
  },
  {
   "cell_type": "code",
   "execution_count": null,
   "id": "62064439-03a8-49a4-988c-568914a68461",
   "metadata": {},
   "outputs": [],
   "source": [
    "df = spark.read.format(\"delta\").load(\"/tmp/delta-table\")\n",
    "df.show()"
   ]
  },
  {
   "cell_type": "code",
   "execution_count": null,
   "id": "5f18e461-a22a-4c10-9b17-e9542e452858",
   "metadata": {},
   "outputs": [],
   "source": []
  }
 ],
 "metadata": {
  "kernelspec": {
   "display_name": "Python 3 (ipykernel)",
   "language": "python",
   "name": "python3"
  },
  "language_info": {
   "codemirror_mode": {
    "name": "ipython",
    "version": 3
   },
   "file_extension": ".py",
   "mimetype": "text/x-python",
   "name": "python",
   "nbconvert_exporter": "python",
   "pygments_lexer": "ipython3",
   "version": "3.9.7"
  }
 },
 "nbformat": 4,
 "nbformat_minor": 5
}
