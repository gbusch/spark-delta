{
 "cells": [
  {
   "cell_type": "markdown",
   "id": "f67ee1c6-fcdf-4286-aa01-a6400cbd3dd3",
   "metadata": {},
   "source": [
    "# Upsert into a Delta Table"
   ]
  },
  {
   "cell_type": "code",
   "execution_count": null,
   "id": "bfbb1cca-fec8-42a8-bdb1-23c5e9540ed6",
   "metadata": {},
   "outputs": [],
   "source": [
    "from utils.spark import get_spark\n",
    "\n",
    "from pyspark.sql import functions as F\n",
    "from delta import DeltaTable"
   ]
  },
  {
   "cell_type": "code",
   "execution_count": null,
   "id": "d2b34bba-6a12-45f6-bf17-da3b3f823958",
   "metadata": {},
   "outputs": [],
   "source": [
    "spark = get_spark()"
   ]
  },
  {
   "cell_type": "markdown",
   "id": "341bf284-0b75-459e-b327-ba20b56d2ca6",
   "metadata": {},
   "source": [
    "## Set up a Delta Table\n",
    "\n",
    "Let's set up a simple delta table from scratch.\n",
    "We will cheat a bit by first creating a dataframe with data and then let Spark guess the schema.\n",
    "However, for the delta-table creation, we only use the schema, the table itself is empty."
   ]
  },
  {
   "cell_type": "code",
   "execution_count": null,
   "id": "0515edda-5744-4612-a8f6-ea1b808aa39c",
   "metadata": {},
   "outputs": [],
   "source": [
    "df = spark.createDataFrame([\n",
    "    {\"brand\": \"audi\", \"color\": \"green\", \"amount\": 300000},\n",
    "    {\"brand\": \"audi\", \"color\": \"blue\", \"amount\": 4000},\n",
    "    {\"brand\": \"vw\", \"color\": \"red\", \"amount\": 9000},\n",
    "    {\"brand\": \"vw\", \"color\": \"green\", \"amount\": 12000},\n",
    "])"
   ]
  },
  {
   "cell_type": "code",
   "execution_count": null,
   "id": "d928039e-fd47-499b-9eb1-b89aa623cb24",
   "metadata": {},
   "outputs": [],
   "source": [
    "df.show()"
   ]
  },
  {
   "cell_type": "code",
   "execution_count": null,
   "id": "468f7f94-3a9b-431f-a7c0-5cd9eac2146d",
   "metadata": {},
   "outputs": [],
   "source": [
    "df.schema"
   ]
  },
  {
   "cell_type": "code",
   "execution_count": null,
   "id": "b0d975db-934b-42e6-806d-fda01b47072d",
   "metadata": {},
   "outputs": [],
   "source": [
    "!rm -rf /data/vehicle-colors"
   ]
  },
  {
   "cell_type": "code",
   "execution_count": null,
   "id": "e56a5ff4-c6dd-471a-b8ee-2dd70afe4353",
   "metadata": {},
   "outputs": [],
   "source": [
    "deltaTable = (DeltaTable\n",
    "                .createIfNotExists(spark)\n",
    "                .location(\"/data/vehicle-colors\")\n",
    "                .addColumns(df.schema)\n",
    "                .execute())"
   ]
  },
  {
   "cell_type": "code",
   "execution_count": null,
   "id": "aa3deb42-008b-4da1-b1c0-48fe47b9a527",
   "metadata": {},
   "outputs": [],
   "source": [
    "!ls /data/vehicle-colors"
   ]
  },
  {
   "cell_type": "code",
   "execution_count": null,
   "id": "0ee0bfad-2d60-4da9-bc69-3585a5e33654",
   "metadata": {},
   "outputs": [],
   "source": []
  },
  {
   "cell_type": "markdown",
   "id": "1605c08a-df1a-4784-9b5e-62115e35835e",
   "metadata": {},
   "source": [
    "# Upsert data\n",
    "\n",
    "We will now merge data (also \"upsert\" for update or insert). \n",
    "As the table is empty before, we will simply insert the data."
   ]
  },
  {
   "cell_type": "code",
   "execution_count": null,
   "id": "42906d29-9100-485f-bc1d-fc99f63b38d3",
   "metadata": {},
   "outputs": [],
   "source": [
    " deltaTable.alias(\"dt\").merge(\n",
    "        df.alias('new'),\n",
    "        \"dt.brand = new.brand and dt.color = new.color\") \\\n",
    "        .whenNotMatchedInsertAll().execute()"
   ]
  },
  {
   "cell_type": "code",
   "execution_count": null,
   "id": "27b0f9f4-fc78-4b1d-bd75-566f2d9f5a3e",
   "metadata": {},
   "outputs": [],
   "source": [
    "deltaTable.toDF().show()"
   ]
  },
  {
   "cell_type": "markdown",
   "id": "a19ba45e-0763-442c-ab1a-f780425f169e",
   "metadata": {},
   "source": [
    "Let's now make a plot where we aggregate the amounts per brand."
   ]
  },
  {
   "cell_type": "code",
   "execution_count": null,
   "id": "003a1c12-45c8-4f13-b2b8-fd62dbed9452",
   "metadata": {},
   "outputs": [],
   "source": [
    "deltaTable.toDF().groupBy(\"brand\").agg(F.sum(\"amount\").alias(\"total\")).toPandas().plot(kind=\"bar\", x=\"brand\", y=\"total\");"
   ]
  },
  {
   "cell_type": "code",
   "execution_count": null,
   "id": "5b0df64c-0850-4139-8f81-6f77fc867028",
   "metadata": {},
   "outputs": [],
   "source": []
  },
  {
   "cell_type": "markdown",
   "id": "fa2e0d10-9830-4b3d-b883-b763d2ec12bd",
   "metadata": {},
   "source": [
    "Here we only insert new data. This means the amount of blue cars will not be updated."
   ]
  },
  {
   "cell_type": "code",
   "execution_count": null,
   "id": "f9e19f18-3538-4ed8-ba40-8ea396b3a11f",
   "metadata": {},
   "outputs": [],
   "source": [
    "new_df = spark.createDataFrame([\n",
    "    {\"brand\": \"audi\", \"color\": \"pink\", \"amount\": 42},\n",
    "    {\"brand\": \"audi\", \"color\": \"green\", \"amount\": 3000},\n",
    "])"
   ]
  },
  {
   "cell_type": "code",
   "execution_count": null,
   "id": "4360988a-0e76-4706-88c8-bab28096332f",
   "metadata": {},
   "outputs": [],
   "source": [
    "deltaTable.alias(\"dt\").merge(\n",
    "        new_df.alias('new'),\n",
    "        \"dt.brand = new.brand and dt.color = new.color\") \\\n",
    "        .whenNotMatchedInsert(values={\n",
    "            \"dt.brand\": \"new.brand\",\n",
    "            \"dt.color\": \"new.color\",\n",
    "            \"dt.amount\": \"new.amount\"\n",
    "        }\n",
    "    ).execute()"
   ]
  },
  {
   "cell_type": "code",
   "execution_count": null,
   "id": "38c526a2-e1f9-477c-979e-1004241cf1f3",
   "metadata": {},
   "outputs": [],
   "source": [
    "deltaTable.toDF().show()"
   ]
  },
  {
   "cell_type": "markdown",
   "id": "38b9277f-655f-4434-a09a-d227132e30e0",
   "metadata": {},
   "source": [
    "In the next request we also specify that we want to update rows:"
   ]
  },
  {
   "cell_type": "code",
   "execution_count": null,
   "id": "8da8839f-4591-46ff-8b4b-583ddc60d706",
   "metadata": {},
   "outputs": [],
   "source": [
    "deltaTable.alias(\"dt\").merge(\n",
    "        new_df.alias('new'),\n",
    "        \"dt.brand = new.brand and dt.color = new.color\") \\\n",
    "        .whenNotMatchedInsert(values={\n",
    "            \"dt.brand\": \"new.brand\",\n",
    "            \"dt.color\": \"new.color\",\n",
    "            \"dt.amount\": \"new.amount\"\n",
    "        }) \\\n",
    "        .whenMatchedUpdate(set={\n",
    "            \"dt.amount\": \"new.amount\"\n",
    "        }) \\\n",
    "        .execute()"
   ]
  },
  {
   "cell_type": "code",
   "execution_count": null,
   "id": "f9d05e37-fdcb-4ec9-8393-efb0be697bfd",
   "metadata": {},
   "outputs": [],
   "source": [
    "deltaTable.toDF().show()"
   ]
  },
  {
   "cell_type": "code",
   "execution_count": null,
   "id": "12fbc4a8-15e0-4011-b7b7-094dd032741e",
   "metadata": {},
   "outputs": [],
   "source": [
    "deltaTable.toDF().groupBy(\"brand\").agg(F.sum(\"amount\").alias(\"total\")).toPandas().plot(kind=\"bar\", x=\"brand\", y=\"total\");"
   ]
  },
  {
   "cell_type": "code",
   "execution_count": null,
   "id": "93346a95-2e38-462c-9d2e-6d420a362f71",
   "metadata": {},
   "outputs": [],
   "source": []
  },
  {
   "cell_type": "markdown",
   "id": "b20f4ed4-a975-4019-8f5a-68697713763e",
   "metadata": {},
   "source": [
    "We are happy with our new plot... but the customer says, yesterday there were more Audis.\n",
    "So it would be cool to go back in history, reproduce yesterdays plot and see whether she is right:"
   ]
  },
  {
   "cell_type": "markdown",
   "id": "862616d1-65f9-4997-80d4-5f30389aad30",
   "metadata": {},
   "source": [
    "You can view the history of the delta table with the following command: it is just a normal dataframe:"
   ]
  },
  {
   "cell_type": "code",
   "execution_count": null,
   "id": "814fc362-28a7-4fe4-b3fe-eb0161791b7a",
   "metadata": {},
   "outputs": [],
   "source": [
    "deltaTable.history().orderBy('version').toPandas()"
   ]
  },
  {
   "cell_type": "code",
   "execution_count": null,
   "id": "919220e3-b47e-44aa-b263-96cc191efbc8",
   "metadata": {},
   "outputs": [],
   "source": [
    "old_df = spark.read.format(\"delta\").option(\"versionAsOf\", 1).load(\"/data/vehicle-colors\")"
   ]
  },
  {
   "cell_type": "code",
   "execution_count": null,
   "id": "9dcc07c8-8856-468f-8e09-bee049fbf202",
   "metadata": {},
   "outputs": [],
   "source": [
    "old_df.groupBy(\"brand\").agg(F.sum(\"amount\").alias(\"total\")).toPandas().plot(kind=\"bar\", x=\"brand\", y=\"total\");"
   ]
  },
  {
   "cell_type": "code",
   "execution_count": null,
   "id": "ca1e7ffa-7aa3-4a9b-886d-aa053e4e9138",
   "metadata": {},
   "outputs": [],
   "source": []
  },
  {
   "cell_type": "code",
   "execution_count": null,
   "id": "3c76464b-9502-470a-b030-6703ff8468de",
   "metadata": {},
   "outputs": [],
   "source": []
  }
 ],
 "metadata": {
  "kernelspec": {
   "display_name": "Python 3 (ipykernel)",
   "language": "python",
   "name": "python3"
  },
  "language_info": {
   "codemirror_mode": {
    "name": "ipython",
    "version": 3
   },
   "file_extension": ".py",
   "mimetype": "text/x-python",
   "name": "python",
   "nbconvert_exporter": "python",
   "pygments_lexer": "ipython3",
   "version": "3.9.7"
  }
 },
 "nbformat": 4,
 "nbformat_minor": 5
}
